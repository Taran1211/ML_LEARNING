{
  "nbformat": 4,
  "nbformat_minor": 0,
  "metadata": {
    "colab": {
      "provenance": []
    },
    "kernelspec": {
      "name": "python3",
      "display_name": "Python 3"
    },
    "language_info": {
      "name": "python"
    }
  },
  "cells": [
    {
      "cell_type": "code",
      "execution_count": 4,
      "metadata": {
        "id": "0X4Y3katSx0I"
      },
      "outputs": [],
      "source": [
        "num_1=20\n",
        "num_2=10\n",
        "num_3=num_1+num_2;\n"
      ]
    },
    {
      "cell_type": "code",
      "source": [
        "print(num_3)\n"
      ],
      "metadata": {
        "colab": {
          "base_uri": "https://localhost:8080/"
        },
        "id": "VXYDf7OHatI7",
        "outputId": "c2117584-e05f-4c0c-93f9-92c0fa3f1b44"
      },
      "execution_count": 5,
      "outputs": [
        {
          "output_type": "stream",
          "name": "stdout",
          "text": [
            "30\n"
          ]
        }
      ]
    },
    {
      "cell_type": "code",
      "source": [
        "diff=num_1-num_2\n",
        "print(diff)"
      ],
      "metadata": {
        "colab": {
          "base_uri": "https://localhost:8080/"
        },
        "id": "94azbNyLa69R",
        "outputId": "6967efc2-eba9-4fee-db67-64b72c4f30d8"
      },
      "execution_count": 7,
      "outputs": [
        {
          "output_type": "stream",
          "name": "stdout",
          "text": [
            "10\n"
          ]
        }
      ]
    },
    {
      "cell_type": "code",
      "source": [
        "pro=num_1*num_2"
      ],
      "metadata": {
        "id": "P_je55HDbLIx"
      },
      "execution_count": 10,
      "outputs": []
    },
    {
      "cell_type": "code",
      "source": [
        "quo=num_1/num_2"
      ],
      "metadata": {
        "id": "WGXsJ8BZbUty"
      },
      "execution_count": 12,
      "outputs": []
    },
    {
      "cell_type": "code",
      "source": [
        "exp=num_1**num_2"
      ],
      "metadata": {
        "id": "LFEuLLz7bcwu"
      },
      "execution_count": 14,
      "outputs": []
    },
    {
      "cell_type": "code",
      "source": [
        "mod=num_1%num_2"
      ],
      "metadata": {
        "id": "pp_SgG_TbjcL"
      },
      "execution_count": 16,
      "outputs": []
    },
    {
      "cell_type": "markdown",
      "source": [
        "                        LOGICAL OPERATORS\n",
        "##                        "
      ],
      "metadata": {
        "id": "uJ6AeQdGb8Vj"
      }
    },
    {
      "cell_type": "code",
      "source": [
        "a=10\n",
        "print(a>20 and a>5)\n",
        "print(a>20 or a>5)\n",
        "print(not(a>5) and(a>20))"
      ],
      "metadata": {
        "colab": {
          "base_uri": "https://localhost:8080/"
        },
        "id": "JSUs4h6fcBnW",
        "outputId": "a845fb90-5f87-48a5-dfbe-eb9517b71637"
      },
      "execution_count": 17,
      "outputs": [
        {
          "output_type": "stream",
          "name": "stdout",
          "text": [
            "False\n",
            "True\n",
            "False\n"
          ]
        }
      ]
    },
    {
      "cell_type": "code",
      "source": [],
      "metadata": {
        "id": "EN_n6wQWcSgI"
      },
      "execution_count": null,
      "outputs": []
    },
    {
      "cell_type": "markdown",
      "source": [
        "                                 IDENTITY OPERATOR"
      ],
      "metadata": {
        "id": "ZnvAZPDAcZ0y"
      }
    },
    {
      "cell_type": "code",
      "source": [
        "X=5\n",
        "Y=5\n",
        "print(X  is Y)"
      ],
      "metadata": {
        "colab": {
          "base_uri": "https://localhost:8080/"
        },
        "id": "lCQidwa4cdK4",
        "outputId": "ffdd40cf-f278-42da-a2bd-2efe7cb2a937"
      },
      "execution_count": 19,
      "outputs": [
        {
          "output_type": "stream",
          "name": "stdout",
          "text": [
            "True\n"
          ]
        }
      ]
    },
    {
      "cell_type": "code",
      "source": [
        "                  "
      ],
      "metadata": {
        "id": "jIwylihacdP3"
      },
      "execution_count": null,
      "outputs": []
    },
    {
      "cell_type": "code",
      "source": [],
      "metadata": {
        "id": "V-fioKYKcvGV"
      },
      "execution_count": null,
      "outputs": []
    },
    {
      "cell_type": "markdown",
      "source": [
        "                                                  MEMBERSHIP OPERATOR"
      ],
      "metadata": {
        "id": "gIZUwBbTcvom"
      }
    },
    {
      "cell_type": "code",
      "source": [
        "a=5\n",
        "b=10\n",
        "c=[1,2,3,4,5]\n",
        "print(a in c)\n",
        "print(b in c)"
      ],
      "metadata": {
        "colab": {
          "base_uri": "https://localhost:8080/"
        },
        "id": "ni1ky4WVc0Zn",
        "outputId": "bdf4c5d0-e719-4f00-a69f-b240eb1cb298"
      },
      "execution_count": 20,
      "outputs": [
        {
          "output_type": "stream",
          "name": "stdout",
          "text": [
            "True\n",
            "False\n"
          ]
        }
      ]
    }
  ]
}